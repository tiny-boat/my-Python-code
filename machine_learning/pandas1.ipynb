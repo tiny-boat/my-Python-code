{
 "cells": [
  {
   "cell_type": "markdown",
   "metadata": {},
   "source": [
    "# 数据准备"
   ]
  },
  {
   "cell_type": "code",
   "execution_count": null,
   "metadata": {},
   "outputs": [],
   "source": [
    "import pandas as pd\n",
    "import numpy as np\n",
    "import os\n",
    "# to download https://www.kaggle.com/russellyates88/suicide-rates-overview-1985-to-2016\n",
    "\n",
    "data_path = 'F:/suicide-rates-overview-1985-to-2016'\n",
    "df = (pd.read_csv(filepath_or_buffer=os.path.join(data_path, 'master.csv'))\n",
    ".rename(columns={'suicides/100k pop' : 'suicides_per_100k', ' gdp_for_year ($) ' : 'gdp_year',  'gdp_per_capita ($)' : 'gdp_capita', 'country-year' : 'country_year'}) \n",
    ".assign(gdp_year=lambda _df: _df['gdp_year'].str\n",
    ".replace(',','').astype(np.int64)) )"
   ]
  },
  {
   "cell_type": "code",
   "execution_count": null,
   "metadata": {},
   "outputs": [],
   "source": [
    "df.columns"
   ]
  },
  {
   "cell_type": "code",
   "execution_count": null,
   "metadata": {},
   "outputs": [],
   "source": [
    "df['generation'].unique()"
   ]
  },
  {
   "cell_type": "code",
   "execution_count": null,
   "metadata": {},
   "outputs": [],
   "source": [
    "df['country'].nunique()"
   ]
  },
  {
   "cell_type": "code",
   "execution_count": null,
   "metadata": {},
   "outputs": [],
   "source": [
    "df.describe()"
   ]
  },
  {
   "cell_type": "markdown",
   "metadata": {},
   "source": [
    "# 内存优化"
   ]
  },
  {
   "cell_type": "code",
   "execution_count": null,
   "metadata": {},
   "outputs": [],
   "source": [
    "def mem_usage(df: pd.DataFrame) -> str:\n",
    "    \"\"\"This method styles the memory usage of a DataFrame to be readable as MB.\n",
    "    Parameters\n",
    "    ----------\n",
    "    df: pd.DataFrame\n",
    "        Data frame to measure.\n",
    "    Returns\n",
    "    -------\n",
    "    str\n",
    "        Complete memory usage as a string formatted for MB.\n",
    "    \"\"\"\n",
    "    return f'{df.memory_usage(deep=True).sum() / 1024 ** 2 : 3.2f} MB'\n",
    "\n",
    "\n",
    "def convert_df(df: pd.DataFrame, deep_copy: bool = True) -> pd.DataFrame:\n",
    "    \"\"\"Automatically converts columns that are worth stored as\n",
    "    ``categorical`` dtype.\n",
    "    Parameters\n",
    "    ----------\n",
    "    df: pd.DataFrame\n",
    "        Data frame to convert.\n",
    "    deep_copy: bool\n",
    "        Whether or not to perform a deep copy of the original data frame.\n",
    "    Returns\n",
    "    -------\n",
    "    pd.DataFrame\n",
    "        Optimized copy of the input data frame.\n",
    "    \"\"\"\n",
    "    return df.copy(deep=deep_copy).astype({\n",
    "        col: 'category' for col in df.columns\n",
    "        if df[col].nunique() / df[col].shape[0] < 0.5})"
   ]
  },
  {
   "cell_type": "code",
   "execution_count": null,
   "metadata": {},
   "outputs": [],
   "source": [
    "mem_usage(df)"
   ]
  },
  {
   "cell_type": "code",
   "execution_count": null,
   "metadata": {},
   "outputs": [],
   "source": [
    "mem_usage(df.set_index(['country', 'year', 'sex', 'age']))"
   ]
  },
  {
   "cell_type": "code",
   "execution_count": null,
   "metadata": {},
   "outputs": [],
   "source": [
    "mem_usage(convert_df(df))"
   ]
  },
  {
   "cell_type": "code",
   "execution_count": null,
   "metadata": {},
   "outputs": [],
   "source": [
    "mem_usage(convert_df(df.set_index(['country', 'year', 'sex', 'age'])))"
   ]
  },
  {
   "cell_type": "markdown",
   "metadata": {},
   "source": [
    "# 索引"
   ]
  },
  {
   "cell_type": "code",
   "execution_count": null,
   "metadata": {},
   "outputs": [],
   "source": [
    "%%time\n",
    "df.query('country == \"Albania\" and year == 1987 and sex == \"male\" and age == \"25-34 years\"')"
   ]
  },
  {
   "cell_type": "code",
   "execution_count": null,
   "metadata": {},
   "outputs": [],
   "source": [
    "%%time\n",
    "mi_df = df.set_index(['country', 'year', 'sex', 'age'])"
   ]
  },
  {
   "cell_type": "code",
   "execution_count": null,
   "metadata": {},
   "outputs": [],
   "source": [
    "%%time\n",
    "mi_df.loc['Albania', 1987, 'male', '25-34 years']"
   ]
  }
 ],
 "metadata": {
  "kernelspec": {
   "display_name": "Python 3",
   "language": "python",
   "name": "python3"
  },
  "language_info": {
   "codemirror_mode": {
    "name": "ipython",
    "version": 3
   },
   "file_extension": ".py",
   "mimetype": "text/x-python",
   "name": "python",
   "nbconvert_exporter": "python",
   "pygments_lexer": "ipython3",
   "version": "3.7.4"
  }
 },
 "nbformat": 4,
 "nbformat_minor": 2
}
